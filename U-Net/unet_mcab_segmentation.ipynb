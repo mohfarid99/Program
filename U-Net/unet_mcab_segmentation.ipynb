{
 "cells": [
  {
   "cell_type": "markdown",
   "metadata": {},
   "source": [
    "## 1. Convert the training dataset masks from polygon points"
   ]
  },
  {
   "cell_type": "code",
   "execution_count": 18,
   "metadata": {},
   "outputs": [
    {
     "name": "stdout",
     "output_type": "stream",
     "text": [
      "Saved resized output image for 244_img_png.rf.7574c55db4457b53602f23533a76a816.jpg as /Users/mohammadfaridnaufal/Library/CloudStorage/OneDrive-UniversitasSurabaya/S3/Project/Program/U-Net/train/masks/244_img_png.rf.7574c55db4457b53602f23533a76a816.png\n",
      "Saved resized output image for 325_img_png.rf.067bd247fe5d199865d70062abed348b.jpg as /Users/mohammadfaridnaufal/Library/CloudStorage/OneDrive-UniversitasSurabaya/S3/Project/Program/U-Net/train/masks/325_img_png.rf.067bd247fe5d199865d70062abed348b.png\n",
      "Saved resized output image for 36_img_png.rf.e0b74b91aec07ab26ab84524aee64eaf.jpg as /Users/mohammadfaridnaufal/Library/CloudStorage/OneDrive-UniversitasSurabaya/S3/Project/Program/U-Net/train/masks/36_img_png.rf.e0b74b91aec07ab26ab84524aee64eaf.png\n",
      "Saved resized output image for 45_img_png.rf.c48180996cde5daf7f642e0b8a5bd2d0.jpg as /Users/mohammadfaridnaufal/Library/CloudStorage/OneDrive-UniversitasSurabaya/S3/Project/Program/U-Net/train/masks/45_img_png.rf.c48180996cde5daf7f642e0b8a5bd2d0.png\n",
      "Saved resized output image for 29_img_png.rf.7b3f0a236d34cc138d3f1be4bee1a1ac.jpg as /Users/mohammadfaridnaufal/Library/CloudStorage/OneDrive-UniversitasSurabaya/S3/Project/Program/U-Net/train/masks/29_img_png.rf.7b3f0a236d34cc138d3f1be4bee1a1ac.png\n",
      "Saved resized output image for 30_img_png.rf.ee7c7d9d65f5c242f220422231089044.jpg as /Users/mohammadfaridnaufal/Library/CloudStorage/OneDrive-UniversitasSurabaya/S3/Project/Program/U-Net/train/masks/30_img_png.rf.ee7c7d9d65f5c242f220422231089044.png\n",
      "Saved resized output image for 28_img_png.rf.eece1857998db585eb92c5d30a8a84ec.jpg as /Users/mohammadfaridnaufal/Library/CloudStorage/OneDrive-UniversitasSurabaya/S3/Project/Program/U-Net/train/masks/28_img_png.rf.eece1857998db585eb92c5d30a8a84ec.png\n",
      "Saved resized output image for 71_img_png.rf.2fee676aa8e5c71f5af1e8ff778c42ee.jpg as /Users/mohammadfaridnaufal/Library/CloudStorage/OneDrive-UniversitasSurabaya/S3/Project/Program/U-Net/train/masks/71_img_png.rf.2fee676aa8e5c71f5af1e8ff778c42ee.png\n",
      "Saved resized output image for 25_img_png.rf.ac0b93fe34c95d844a3465f2e95befd5.jpg as /Users/mohammadfaridnaufal/Library/CloudStorage/OneDrive-UniversitasSurabaya/S3/Project/Program/U-Net/train/masks/25_img_png.rf.ac0b93fe34c95d844a3465f2e95befd5.png\n",
      "Saved resized output image for 227_img_png.rf.4882585fcb518cf46de8dcae453094e5.jpg as /Users/mohammadfaridnaufal/Library/CloudStorage/OneDrive-UniversitasSurabaya/S3/Project/Program/U-Net/train/masks/227_img_png.rf.4882585fcb518cf46de8dcae453094e5.png\n",
      "Saved resized output image for 20_img_png.rf.195ad5bddbc817ef7b6c687fdefc66ff.jpg as /Users/mohammadfaridnaufal/Library/CloudStorage/OneDrive-UniversitasSurabaya/S3/Project/Program/U-Net/train/masks/20_img_png.rf.195ad5bddbc817ef7b6c687fdefc66ff.png\n",
      "Saved resized output image for 31_img_png.rf.5cf3adc811960d0e02b47d1c4a075af3.jpg as /Users/mohammadfaridnaufal/Library/CloudStorage/OneDrive-UniversitasSurabaya/S3/Project/Program/U-Net/train/masks/31_img_png.rf.5cf3adc811960d0e02b47d1c4a075af3.png\n",
      "Saved resized output image for 41_img_png.rf.ae616ad3286f5d9b33aa3a292479b7fd.jpg as /Users/mohammadfaridnaufal/Library/CloudStorage/OneDrive-UniversitasSurabaya/S3/Project/Program/U-Net/train/masks/41_img_png.rf.ae616ad3286f5d9b33aa3a292479b7fd.png\n",
      "Saved resized output image for 12_img_png.rf.c0c1814c709a0ea84a9e1ff9736c13d1.jpg as /Users/mohammadfaridnaufal/Library/CloudStorage/OneDrive-UniversitasSurabaya/S3/Project/Program/U-Net/train/masks/12_img_png.rf.c0c1814c709a0ea84a9e1ff9736c13d1.png\n",
      "Saved resized output image for 252_img_png.rf.98f3ac2366a172228d657d2e8db52465.jpg as /Users/mohammadfaridnaufal/Library/CloudStorage/OneDrive-UniversitasSurabaya/S3/Project/Program/U-Net/train/masks/252_img_png.rf.98f3ac2366a172228d657d2e8db52465.png\n",
      "Saved resized output image for 27_img_png.rf.dc5def61ac995b662c001d068894f628.jpg as /Users/mohammadfaridnaufal/Library/CloudStorage/OneDrive-UniversitasSurabaya/S3/Project/Program/U-Net/train/masks/27_img_png.rf.dc5def61ac995b662c001d068894f628.png\n",
      "Saved resized output image for 21_img_png.rf.68011a7794fa32441e37ea0b4e66bc5b.jpg as /Users/mohammadfaridnaufal/Library/CloudStorage/OneDrive-UniversitasSurabaya/S3/Project/Program/U-Net/train/masks/21_img_png.rf.68011a7794fa32441e37ea0b4e66bc5b.png\n",
      "Saved resized output image for 248_img_png.rf.0409b8d3d1c0ccd609fb83aeda6d78ae.jpg as /Users/mohammadfaridnaufal/Library/CloudStorage/OneDrive-UniversitasSurabaya/S3/Project/Program/U-Net/train/masks/248_img_png.rf.0409b8d3d1c0ccd609fb83aeda6d78ae.png\n",
      "Saved resized output image for 290_img_png.rf.26ff4e2e7a033d441ee5352e2f6a882b.jpg as /Users/mohammadfaridnaufal/Library/CloudStorage/OneDrive-UniversitasSurabaya/S3/Project/Program/U-Net/train/masks/290_img_png.rf.26ff4e2e7a033d441ee5352e2f6a882b.png\n",
      "Saved resized output image for 233_img_png.rf.e58e475205e7eddb38024562e26c1564.jpg as /Users/mohammadfaridnaufal/Library/CloudStorage/OneDrive-UniversitasSurabaya/S3/Project/Program/U-Net/train/masks/233_img_png.rf.e58e475205e7eddb38024562e26c1564.png\n",
      "Saved resized output image for 57_img_png.rf.a8c6edbe28f8a9269ccd0e07161d4582.jpg as /Users/mohammadfaridnaufal/Library/CloudStorage/OneDrive-UniversitasSurabaya/S3/Project/Program/U-Net/train/masks/57_img_png.rf.a8c6edbe28f8a9269ccd0e07161d4582.png\n",
      "Saved resized output image for 259_img_png.rf.16dccd46e39dfbe0932cc605149b2357.jpg as /Users/mohammadfaridnaufal/Library/CloudStorage/OneDrive-UniversitasSurabaya/S3/Project/Program/U-Net/train/masks/259_img_png.rf.16dccd46e39dfbe0932cc605149b2357.png\n",
      "Saved resized output image for 13_img_png.rf.ee6f91e1f85ee41b9121b44b6048a352.jpg as /Users/mohammadfaridnaufal/Library/CloudStorage/OneDrive-UniversitasSurabaya/S3/Project/Program/U-Net/train/masks/13_img_png.rf.ee6f91e1f85ee41b9121b44b6048a352.png\n",
      "Saved resized output image for 18_img_png.rf.b18125a0d49881aa59137b16f7334470.jpg as /Users/mohammadfaridnaufal/Library/CloudStorage/OneDrive-UniversitasSurabaya/S3/Project/Program/U-Net/train/masks/18_img_png.rf.b18125a0d49881aa59137b16f7334470.png\n",
      "Saved resized output image for 24_img_png.rf.b940049038e56d54660db5537d71c027.jpg as /Users/mohammadfaridnaufal/Library/CloudStorage/OneDrive-UniversitasSurabaya/S3/Project/Program/U-Net/train/masks/24_img_png.rf.b940049038e56d54660db5537d71c027.png\n",
      "Saved resized output image for 326_img_png.rf.b3f07c0990b7910d50b66f21d20451a1.jpg as /Users/mohammadfaridnaufal/Library/CloudStorage/OneDrive-UniversitasSurabaya/S3/Project/Program/U-Net/train/masks/326_img_png.rf.b3f07c0990b7910d50b66f21d20451a1.png\n",
      "Saved resized output image for 313_img_png.rf.3350e65d5f78347359d625ec0df4d7a2.jpg as /Users/mohammadfaridnaufal/Library/CloudStorage/OneDrive-UniversitasSurabaya/S3/Project/Program/U-Net/train/masks/313_img_png.rf.3350e65d5f78347359d625ec0df4d7a2.png\n",
      "Saved resized output image for 319_img_png.rf.1c0971493bc913471895c4a4d46abd00.jpg as /Users/mohammadfaridnaufal/Library/CloudStorage/OneDrive-UniversitasSurabaya/S3/Project/Program/U-Net/train/masks/319_img_png.rf.1c0971493bc913471895c4a4d46abd00.png\n",
      "Saved resized output image for 323_img_png.rf.dab6eef7e14340c6245e65f432ed77b5.jpg as /Users/mohammadfaridnaufal/Library/CloudStorage/OneDrive-UniversitasSurabaya/S3/Project/Program/U-Net/train/masks/323_img_png.rf.dab6eef7e14340c6245e65f432ed77b5.png\n",
      "Saved resized output image for 174_img_png.rf.bff22af38d71c7353c97c5224e479c8d.jpg as /Users/mohammadfaridnaufal/Library/CloudStorage/OneDrive-UniversitasSurabaya/S3/Project/Program/U-Net/train/masks/174_img_png.rf.bff22af38d71c7353c97c5224e479c8d.png\n",
      "Saved resized output image for 328_img_png.rf.5f1e9e1e293f00f9025229cc5561b8d3.jpg as /Users/mohammadfaridnaufal/Library/CloudStorage/OneDrive-UniversitasSurabaya/S3/Project/Program/U-Net/train/masks/328_img_png.rf.5f1e9e1e293f00f9025229cc5561b8d3.png\n",
      "Saved resized output image for 10_img_png.rf.777481d824a5120085bb62ab4cfb648c.jpg as /Users/mohammadfaridnaufal/Library/CloudStorage/OneDrive-UniversitasSurabaya/S3/Project/Program/U-Net/train/masks/10_img_png.rf.777481d824a5120085bb62ab4cfb648c.png\n",
      "Saved resized output image for 258_img_png.rf.423d3f554b58b7ce2c7b629073d93ebd.jpg as /Users/mohammadfaridnaufal/Library/CloudStorage/OneDrive-UniversitasSurabaya/S3/Project/Program/U-Net/train/masks/258_img_png.rf.423d3f554b58b7ce2c7b629073d93ebd.png\n",
      "Saved resized output image for 288_img_png.rf.dc7333b3be5da73e2e5ea7f13bcbaa26.jpg as /Users/mohammadfaridnaufal/Library/CloudStorage/OneDrive-UniversitasSurabaya/S3/Project/Program/U-Net/train/masks/288_img_png.rf.dc7333b3be5da73e2e5ea7f13bcbaa26.png\n",
      "Saved resized output image for 303_img_png.rf.8daa816798f63d8dc0cc92331130c5f6.jpg as /Users/mohammadfaridnaufal/Library/CloudStorage/OneDrive-UniversitasSurabaya/S3/Project/Program/U-Net/train/masks/303_img_png.rf.8daa816798f63d8dc0cc92331130c5f6.png\n",
      "Saved resized output image for 164_img_png.rf.7341701016b619a4325865278aeab9f6.jpg as /Users/mohammadfaridnaufal/Library/CloudStorage/OneDrive-UniversitasSurabaya/S3/Project/Program/U-Net/train/masks/164_img_png.rf.7341701016b619a4325865278aeab9f6.png\n",
      "Saved resized output image for 255_img_png.rf.d71501d544013ece6caca5d11005820a.jpg as /Users/mohammadfaridnaufal/Library/CloudStorage/OneDrive-UniversitasSurabaya/S3/Project/Program/U-Net/train/masks/255_img_png.rf.d71501d544013ece6caca5d11005820a.png\n",
      "Saved resized output image for 289_img_png.rf.a875e47544430eec6f0c948509bb07ff.jpg as /Users/mohammadfaridnaufal/Library/CloudStorage/OneDrive-UniversitasSurabaya/S3/Project/Program/U-Net/train/masks/289_img_png.rf.a875e47544430eec6f0c948509bb07ff.png\n",
      "Saved resized output image for 311_img_png.rf.391a327ca98ea3bd743905404de2b19d.jpg as /Users/mohammadfaridnaufal/Library/CloudStorage/OneDrive-UniversitasSurabaya/S3/Project/Program/U-Net/train/masks/311_img_png.rf.391a327ca98ea3bd743905404de2b19d.png\n",
      "Saved resized output image for 293_img_png.rf.598f01eee38016858187825ac8bb1718.jpg as /Users/mohammadfaridnaufal/Library/CloudStorage/OneDrive-UniversitasSurabaya/S3/Project/Program/U-Net/train/masks/293_img_png.rf.598f01eee38016858187825ac8bb1718.png\n",
      "Saved resized output image for 60_img_png.rf.0b72929b857ed691a7df052fefbc4940.jpg as /Users/mohammadfaridnaufal/Library/CloudStorage/OneDrive-UniversitasSurabaya/S3/Project/Program/U-Net/train/masks/60_img_png.rf.0b72929b857ed691a7df052fefbc4940.png\n",
      "Saved resized output image for 285_img_png.rf.b8f6d64ee1137ef258973c185d86e56b.jpg as /Users/mohammadfaridnaufal/Library/CloudStorage/OneDrive-UniversitasSurabaya/S3/Project/Program/U-Net/train/masks/285_img_png.rf.b8f6d64ee1137ef258973c185d86e56b.png\n",
      "Saved resized output image for 5_img_png.rf.588efe3c0f394bba16d9d67b49c6988a.jpg as /Users/mohammadfaridnaufal/Library/CloudStorage/OneDrive-UniversitasSurabaya/S3/Project/Program/U-Net/train/masks/5_img_png.rf.588efe3c0f394bba16d9d67b49c6988a.png\n",
      "Saved resized output image for 237_img_png.rf.517a9a8fffa8e42521fb73adc4897221.jpg as /Users/mohammadfaridnaufal/Library/CloudStorage/OneDrive-UniversitasSurabaya/S3/Project/Program/U-Net/train/masks/237_img_png.rf.517a9a8fffa8e42521fb73adc4897221.png\n",
      "Saved resized output image for 39_img_png.rf.55982ddfbf9fdb1668bad8acaf33a4e7.jpg as /Users/mohammadfaridnaufal/Library/CloudStorage/OneDrive-UniversitasSurabaya/S3/Project/Program/U-Net/train/masks/39_img_png.rf.55982ddfbf9fdb1668bad8acaf33a4e7.png\n",
      "Saved resized output image for 72_img_png.rf.96a640a0c1e24bac017ade1d15e07d1c.jpg as /Users/mohammadfaridnaufal/Library/CloudStorage/OneDrive-UniversitasSurabaya/S3/Project/Program/U-Net/train/masks/72_img_png.rf.96a640a0c1e24bac017ade1d15e07d1c.png\n",
      "Saved resized output image for 236_img_png.rf.a1afc6dbcfb4efdf917671ebb1f9675b.jpg as /Users/mohammadfaridnaufal/Library/CloudStorage/OneDrive-UniversitasSurabaya/S3/Project/Program/U-Net/train/masks/236_img_png.rf.a1afc6dbcfb4efdf917671ebb1f9675b.png\n",
      "Saved resized output image for 56_img_png.rf.f030d795843eafb8094e1f891356ed8e.jpg as /Users/mohammadfaridnaufal/Library/CloudStorage/OneDrive-UniversitasSurabaya/S3/Project/Program/U-Net/train/masks/56_img_png.rf.f030d795843eafb8094e1f891356ed8e.png\n",
      "Saved resized output image for 298_img_png.rf.2ca41e42102308f3aa87cf6e6158c80a.jpg as /Users/mohammadfaridnaufal/Library/CloudStorage/OneDrive-UniversitasSurabaya/S3/Project/Program/U-Net/train/masks/298_img_png.rf.2ca41e42102308f3aa87cf6e6158c80a.png\n",
      "Saved resized output image for 253_img_png.rf.370ad35e58b3f368eedc77aa7361d983.jpg as /Users/mohammadfaridnaufal/Library/CloudStorage/OneDrive-UniversitasSurabaya/S3/Project/Program/U-Net/train/masks/253_img_png.rf.370ad35e58b3f368eedc77aa7361d983.png\n",
      "Saved resized output image for 46_img_png.rf.7589b1142247c159b9e46029325d9509.jpg as /Users/mohammadfaridnaufal/Library/CloudStorage/OneDrive-UniversitasSurabaya/S3/Project/Program/U-Net/train/masks/46_img_png.rf.7589b1142247c159b9e46029325d9509.png\n",
      "Saved resized output image for 62_img_png.rf.b40f8069ae90d0996013eca8e81cdf9a.jpg as /Users/mohammadfaridnaufal/Library/CloudStorage/OneDrive-UniversitasSurabaya/S3/Project/Program/U-Net/train/masks/62_img_png.rf.b40f8069ae90d0996013eca8e81cdf9a.png\n",
      "Saved resized output image for 262_img_png.rf.c12f17ec4fd59f15f1be3d3ff2c1f2d0.jpg as /Users/mohammadfaridnaufal/Library/CloudStorage/OneDrive-UniversitasSurabaya/S3/Project/Program/U-Net/train/masks/262_img_png.rf.c12f17ec4fd59f15f1be3d3ff2c1f2d0.png\n",
      "Saved resized output image for 279_img_png.rf.6fc64b846dd486f0559fbec75fd83744.jpg as /Users/mohammadfaridnaufal/Library/CloudStorage/OneDrive-UniversitasSurabaya/S3/Project/Program/U-Net/train/masks/279_img_png.rf.6fc64b846dd486f0559fbec75fd83744.png\n",
      "Saved resized output image for 324_img_png.rf.1635f1a7863d5e3b9c6fe9447c6f9c3b.jpg as /Users/mohammadfaridnaufal/Library/CloudStorage/OneDrive-UniversitasSurabaya/S3/Project/Program/U-Net/train/masks/324_img_png.rf.1635f1a7863d5e3b9c6fe9447c6f9c3b.png\n",
      "Saved resized output image for 3_img_png.rf.133daa46d2ec27a8a40938aa2b4fe578.jpg as /Users/mohammadfaridnaufal/Library/CloudStorage/OneDrive-UniversitasSurabaya/S3/Project/Program/U-Net/train/masks/3_img_png.rf.133daa46d2ec27a8a40938aa2b4fe578.png\n",
      "Saved resized output image for 63_img_png.rf.90cc4846dd74f2a440695654efacaafd.jpg as /Users/mohammadfaridnaufal/Library/CloudStorage/OneDrive-UniversitasSurabaya/S3/Project/Program/U-Net/train/masks/63_img_png.rf.90cc4846dd74f2a440695654efacaafd.png\n",
      "Saved resized output image for 218_img_png.rf.6e29ae66e2bce9d780ccb2649b467ead.jpg as /Users/mohammadfaridnaufal/Library/CloudStorage/OneDrive-UniversitasSurabaya/S3/Project/Program/U-Net/train/masks/218_img_png.rf.6e29ae66e2bce9d780ccb2649b467ead.png\n",
      "Saved resized output image for 333_img_png.rf.ba75054c20d88a7685d22c450d9f890d.jpg as /Users/mohammadfaridnaufal/Library/CloudStorage/OneDrive-UniversitasSurabaya/S3/Project/Program/U-Net/train/masks/333_img_png.rf.ba75054c20d88a7685d22c450d9f890d.png\n"
     ]
    }
   ],
   "source": [
    "import os\n",
    "import cv2\n",
    "import numpy as np\n",
    "\n",
    "# Directory paths\n",
    "img_path = \"/Users/mohammadfaridnaufal/Library/CloudStorage/OneDrive-UniversitasSurabaya/S3/Project/Program/U-Net/train_roboflow/images\"\n",
    "gt_path = \"/Users/mohammadfaridnaufal/Library/CloudStorage/OneDrive-UniversitasSurabaya/S3/Project/Program/U-Net/train_roboflow/labels\"\n",
    "output_path = \"/Users/mohammadfaridnaufal/Library/CloudStorage/OneDrive-UniversitasSurabaya/S3/Project/Program/U-Net/train/masks\"\n",
    "\n",
    "# Ensure output directory exists\n",
    "if not os.path.exists(output_path):\n",
    "    os.makedirs(output_path)\n",
    "\n",
    "# Iterate over files in the image directory\n",
    "for img_file in os.listdir(img_path):\n",
    "    if img_file.endswith(\".jpg\") or img_file.endswith(\".png\"):  # adjust based on your image format\n",
    "        # Read the image\n",
    "        img = cv2.imread(os.path.join(img_path, img_file))\n",
    "\n",
    "        # Create a blank black image with the same dimensions as the original image\n",
    "        mask = np.zeros_like(img, dtype=np.uint8)\n",
    "\n",
    "        # Read the corresponding ground truth file\n",
    "        gt_file = os.path.splitext(img_file)[0] + \".txt\"  # assuming ground truth files have the same name as images\n",
    "        gt_file_path = os.path.join(gt_path, gt_file)\n",
    "\n",
    "        if os.path.exists(gt_file_path):\n",
    "            class_0_points = []\n",
    "            class_1_points = []\n",
    "            with open(gt_file_path, \"r\") as file:\n",
    "                lines = file.readlines()\n",
    "                for line in lines:\n",
    "                    data = line.split()\n",
    "                    class_label = int(data[0])\n",
    "                    points = [(float(data[i]), float(data[i+1])) for i in range(1, len(data), 2)]\n",
    "                    # Convert normalized coordinates to pixel coordinates\n",
    "                    img_height, img_width, _ = img.shape\n",
    "                    points = [(int(point[0] * img_width), int(point[1] * img_height)) for point in points]\n",
    "                    if class_label == 0:\n",
    "                        class_0_points.extend(points)\n",
    "                    elif class_label == 1:\n",
    "                        class_1_points.extend(points)\n",
    "\n",
    "            # Create numpy arrays of points for drawing the polygons\n",
    "            polygon_points_0 = np.array(class_0_points)\n",
    "            polygon_points_1 = np.array(class_1_points)\n",
    "\n",
    "            # Draw the filled polygons on the mask\n",
    "            if len(polygon_points_0) > 0:\n",
    "                cv2.fillPoly(mask, [polygon_points_0], color=(128, 128, 128))  # Assigning gray for class 0\n",
    "            if len(polygon_points_1) > 0:\n",
    "                cv2.fillPoly(mask, [polygon_points_1], color=(255, 255, 255))  # Assigning white for class 1\n",
    "\n",
    "            # Resize the output image to 101x200\n",
    "            # mask_resized = cv2.resize(mask, (101, 200))\n",
    "\n",
    "            # Save the output image as JPEG\n",
    "            output_file = os.path.splitext(img_file)[0] + \".png\"\n",
    "            output_file_path = os.path.join(output_path, output_file)\n",
    "            cv2.imwrite(output_file_path, mask)\n",
    "\n",
    "            print(f\"Saved resized output image for {img_file} as {output_file_path}\")\n",
    "        else:\n",
    "            print(f\"No ground truth file found for {img_file}\")\n"
   ]
  },
  {
   "cell_type": "markdown",
   "metadata": {},
   "source": [
    "Resize the original images to 101,200"
   ]
  },
  {
   "cell_type": "code",
   "execution_count": 2,
   "metadata": {},
   "outputs": [
    {
     "name": "stdout",
     "output_type": "stream",
     "text": [
      "Resized image saved: /Users/mohammadfaridnaufal/Library/CloudStorage/OneDrive-UniversitasSurabaya/S3/Project/Program/U-Net/train/images/259_img_png.rf.e9e0587503a952794e3e0d3a749035a0.jpg\n",
      "Resized image saved: /Users/mohammadfaridnaufal/Library/CloudStorage/OneDrive-UniversitasSurabaya/S3/Project/Program/U-Net/train/images/57_img_png.rf.c2e6482cfda7a8aac0818c10abe96c01.jpg\n",
      "Resized image saved: /Users/mohammadfaridnaufal/Library/CloudStorage/OneDrive-UniversitasSurabaya/S3/Project/Program/U-Net/train/images/3_img_png.rf.86c077a0fb6d191e5dc359eeaff17904.jpg\n",
      "Resized image saved: /Users/mohammadfaridnaufal/Library/CloudStorage/OneDrive-UniversitasSurabaya/S3/Project/Program/U-Net/train/images/262_img_png.rf.c0c61df310de03156e69efaaf39e3489.jpg\n",
      "Resized image saved: /Users/mohammadfaridnaufal/Library/CloudStorage/OneDrive-UniversitasSurabaya/S3/Project/Program/U-Net/train/images/253_img_png.rf.3a7fc784362a94f77199b3dbb2ae0fbd.jpg\n",
      "Resized image saved: /Users/mohammadfaridnaufal/Library/CloudStorage/OneDrive-UniversitasSurabaya/S3/Project/Program/U-Net/train/images/63_img_png.rf.27131d855fe249efaa67a37c9b16bbc6.jpg\n",
      "Resized image saved: /Users/mohammadfaridnaufal/Library/CloudStorage/OneDrive-UniversitasSurabaya/S3/Project/Program/U-Net/train/images/71_img_png.rf.8298026c8aec3b0bb885f574e75d1d93.jpg\n",
      "Resized image saved: /Users/mohammadfaridnaufal/Library/CloudStorage/OneDrive-UniversitasSurabaya/S3/Project/Program/U-Net/train/images/244_img_png.rf.20a89909abd6ae1e2771b73a40f581dd.jpg\n",
      "Resized image saved: /Users/mohammadfaridnaufal/Library/CloudStorage/OneDrive-UniversitasSurabaya/S3/Project/Program/U-Net/train/images/174_img_png.rf.9495a5963b458be38822a34b4035c735.jpg\n",
      "Resized image saved: /Users/mohammadfaridnaufal/Library/CloudStorage/OneDrive-UniversitasSurabaya/S3/Project/Program/U-Net/train/images/25_img_png.rf.0c567d9c8af2afbb000a735916ff453c.jpg\n",
      "Resized image saved: /Users/mohammadfaridnaufal/Library/CloudStorage/OneDrive-UniversitasSurabaya/S3/Project/Program/U-Net/train/images/10_img_png.rf.66af558d9f79e34e7814f0ffea7f50a0.jpg\n",
      "Resized image saved: /Users/mohammadfaridnaufal/Library/CloudStorage/OneDrive-UniversitasSurabaya/S3/Project/Program/U-Net/train/images/233_img_png.rf.ef4833825a270170cf29bf724672aac1.jpg\n",
      "Resized image saved: /Users/mohammadfaridnaufal/Library/CloudStorage/OneDrive-UniversitasSurabaya/S3/Project/Program/U-Net/train/images/311_img_png.rf.43b5d1a387b6409f6d4ca9efffe34fb9.jpg\n",
      "Resized image saved: /Users/mohammadfaridnaufal/Library/CloudStorage/OneDrive-UniversitasSurabaya/S3/Project/Program/U-Net/train/images/27_img_png.rf.5260ec174946fd79daa1c73115113116.jpg\n",
      "Resized image saved: /Users/mohammadfaridnaufal/Library/CloudStorage/OneDrive-UniversitasSurabaya/S3/Project/Program/U-Net/train/images/236_img_png.rf.0a09c38bcc972fa5bf2bc07b1b3009c1.jpg\n",
      "Resized image saved: /Users/mohammadfaridnaufal/Library/CloudStorage/OneDrive-UniversitasSurabaya/S3/Project/Program/U-Net/train/images/293_img_png.rf.9b2752ce7f12eaaf8d8605182f7717d5.jpg\n",
      "Resized image saved: /Users/mohammadfaridnaufal/Library/CloudStorage/OneDrive-UniversitasSurabaya/S3/Project/Program/U-Net/train/images/30_img_png.rf.c1a28c8e045a7edcbe710f8877c2b9c5.jpg\n",
      "Resized image saved: /Users/mohammadfaridnaufal/Library/CloudStorage/OneDrive-UniversitasSurabaya/S3/Project/Program/U-Net/train/images/252_img_png.rf.fb6c85f2cf5554f100c222afc2a67499.jpg\n",
      "Resized image saved: /Users/mohammadfaridnaufal/Library/CloudStorage/OneDrive-UniversitasSurabaya/S3/Project/Program/U-Net/train/images/20_img_png.rf.10ba6cc7dbb4be62c6a17f8a56d02e6a.jpg\n",
      "Resized image saved: /Users/mohammadfaridnaufal/Library/CloudStorage/OneDrive-UniversitasSurabaya/S3/Project/Program/U-Net/train/images/313_img_png.rf.ee5ded24f1b6fc12c4584adea6f47a45.jpg\n",
      "Resized image saved: /Users/mohammadfaridnaufal/Library/CloudStorage/OneDrive-UniversitasSurabaya/S3/Project/Program/U-Net/train/images/303_img_png.rf.b60148db875b9aeb00221a209ad1a852.jpg\n",
      "Resized image saved: /Users/mohammadfaridnaufal/Library/CloudStorage/OneDrive-UniversitasSurabaya/S3/Project/Program/U-Net/train/images/285_img_png.rf.8420fec53111214c99da720dd044bd5f.jpg\n",
      "Resized image saved: /Users/mohammadfaridnaufal/Library/CloudStorage/OneDrive-UniversitasSurabaya/S3/Project/Program/U-Net/train/images/60_img_png.rf.6b0d5d077c36de0719c7c87ad8aef7c3.jpg\n",
      "Resized image saved: /Users/mohammadfaridnaufal/Library/CloudStorage/OneDrive-UniversitasSurabaya/S3/Project/Program/U-Net/train/images/13_img_png.rf.83d72f36d9d0188a42c1c0c463c22a43.jpg\n",
      "Resized image saved: /Users/mohammadfaridnaufal/Library/CloudStorage/OneDrive-UniversitasSurabaya/S3/Project/Program/U-Net/train/images/164_img_png.rf.5af6841cbbc7d9f8de00e429eec24e31.jpg\n",
      "Resized image saved: /Users/mohammadfaridnaufal/Library/CloudStorage/OneDrive-UniversitasSurabaya/S3/Project/Program/U-Net/train/images/255_img_png.rf.0faeb550c2927634417e87653a243bd7.jpg\n",
      "Resized image saved: /Users/mohammadfaridnaufal/Library/CloudStorage/OneDrive-UniversitasSurabaya/S3/Project/Program/U-Net/train/images/290_img_png.rf.fe03324c8ef36a7478cb749879267550.jpg\n",
      "Resized image saved: /Users/mohammadfaridnaufal/Library/CloudStorage/OneDrive-UniversitasSurabaya/S3/Project/Program/U-Net/train/images/218_img_png.rf.15321aa61a08364a37a0ede9726ad919.jpg\n",
      "Resized image saved: /Users/mohammadfaridnaufal/Library/CloudStorage/OneDrive-UniversitasSurabaya/S3/Project/Program/U-Net/train/images/289_img_png.rf.2dc17f98aee282a805534d536d5864bb.jpg\n",
      "Resized image saved: /Users/mohammadfaridnaufal/Library/CloudStorage/OneDrive-UniversitasSurabaya/S3/Project/Program/U-Net/train/images/31_img_png.rf.95448c7c6c2eabdeffb41bf4ecdf732f.jpg\n",
      "Resized image saved: /Users/mohammadfaridnaufal/Library/CloudStorage/OneDrive-UniversitasSurabaya/S3/Project/Program/U-Net/train/images/45_img_png.rf.6341c33f2ba1699b6baa4f7f95600118.jpg\n",
      "Resized image saved: /Users/mohammadfaridnaufal/Library/CloudStorage/OneDrive-UniversitasSurabaya/S3/Project/Program/U-Net/train/images/333_img_png.rf.5526b9a123b813d8f86688a4a63671a3.jpg\n",
      "Resized image saved: /Users/mohammadfaridnaufal/Library/CloudStorage/OneDrive-UniversitasSurabaya/S3/Project/Program/U-Net/train/images/39_img_png.rf.f08001730be6100e4b748f5b0fa43e7b.jpg\n",
      "Resized image saved: /Users/mohammadfaridnaufal/Library/CloudStorage/OneDrive-UniversitasSurabaya/S3/Project/Program/U-Net/train/images/258_img_png.rf.24bbbc4072e7e4b0537a67e696be9748.jpg\n",
      "Resized image saved: /Users/mohammadfaridnaufal/Library/CloudStorage/OneDrive-UniversitasSurabaya/S3/Project/Program/U-Net/train/images/326_img_png.rf.4605dadda0a7d71da42eb15c63ca409a.jpg\n",
      "Resized image saved: /Users/mohammadfaridnaufal/Library/CloudStorage/OneDrive-UniversitasSurabaya/S3/Project/Program/U-Net/train/images/288_img_png.rf.dd7c45e70c4309a9bf6e4bb62ccfdf43.jpg\n",
      "Resized image saved: /Users/mohammadfaridnaufal/Library/CloudStorage/OneDrive-UniversitasSurabaya/S3/Project/Program/U-Net/train/images/328_img_png.rf.c883485457b74def5f99b5d4d50bb587.jpg\n",
      "Resized image saved: /Users/mohammadfaridnaufal/Library/CloudStorage/OneDrive-UniversitasSurabaya/S3/Project/Program/U-Net/train/images/279_img_png.rf.c34f8bcd5ef8f67917c318e586d46c69.jpg\n",
      "Resized image saved: /Users/mohammadfaridnaufal/Library/CloudStorage/OneDrive-UniversitasSurabaya/S3/Project/Program/U-Net/train/images/5_img_png.rf.8f93468b643c77572e2ca929ebff9604.jpg\n",
      "Resized image saved: /Users/mohammadfaridnaufal/Library/CloudStorage/OneDrive-UniversitasSurabaya/S3/Project/Program/U-Net/train/images/41_img_png.rf.c18414e295a05ef7d3fb2164a9292d5a.jpg\n",
      "Resized image saved: /Users/mohammadfaridnaufal/Library/CloudStorage/OneDrive-UniversitasSurabaya/S3/Project/Program/U-Net/train/images/319_img_png.rf.9cedd7646b6617d23c5601d156ea3ef2.jpg\n",
      "Resized image saved: /Users/mohammadfaridnaufal/Library/CloudStorage/OneDrive-UniversitasSurabaya/S3/Project/Program/U-Net/train/images/62_img_png.rf.9bd90f27fabde5218b38e7d2a8752cef.jpg\n",
      "Resized image saved: /Users/mohammadfaridnaufal/Library/CloudStorage/OneDrive-UniversitasSurabaya/S3/Project/Program/U-Net/train/images/324_img_png.rf.20b9138cf5605f8ccb1a8f4deb69ad0b.jpg\n",
      "Resized image saved: /Users/mohammadfaridnaufal/Library/CloudStorage/OneDrive-UniversitasSurabaya/S3/Project/Program/U-Net/train/images/29_img_png.rf.b667612482d7b5433ed6b70b29f0a50a.jpg\n",
      "Resized image saved: /Users/mohammadfaridnaufal/Library/CloudStorage/OneDrive-UniversitasSurabaya/S3/Project/Program/U-Net/train/images/227_img_png.rf.f36744f893d784876b4d0de4d46a106d.jpg\n",
      "Resized image saved: /Users/mohammadfaridnaufal/Library/CloudStorage/OneDrive-UniversitasSurabaya/S3/Project/Program/U-Net/train/images/28_img_png.rf.ecf1559d7d202cbaf84bc44cf8fcd977.jpg\n",
      "Resized image saved: /Users/mohammadfaridnaufal/Library/CloudStorage/OneDrive-UniversitasSurabaya/S3/Project/Program/U-Net/train/images/46_img_png.rf.26a642585c7e8aacc72579e2e2664779.jpg\n",
      "Resized image saved: /Users/mohammadfaridnaufal/Library/CloudStorage/OneDrive-UniversitasSurabaya/S3/Project/Program/U-Net/train/images/24_img_png.rf.389fd12435328180eef2b436c3ef9d10.jpg\n",
      "Resized image saved: /Users/mohammadfaridnaufal/Library/CloudStorage/OneDrive-UniversitasSurabaya/S3/Project/Program/U-Net/train/images/56_img_png.rf.72b05de381334843e3cfbc159a76fe29.jpg\n",
      "Resized image saved: /Users/mohammadfaridnaufal/Library/CloudStorage/OneDrive-UniversitasSurabaya/S3/Project/Program/U-Net/train/images/12_img_png.rf.171e7547ffdc3be99bf0f138b0b32b4c.jpg\n",
      "Resized image saved: /Users/mohammadfaridnaufal/Library/CloudStorage/OneDrive-UniversitasSurabaya/S3/Project/Program/U-Net/train/images/21_img_png.rf.727e72f58a08d4a90589cbcccd9e94d7.jpg\n",
      "Resized image saved: /Users/mohammadfaridnaufal/Library/CloudStorage/OneDrive-UniversitasSurabaya/S3/Project/Program/U-Net/train/images/323_img_png.rf.f3586b1feba78e8db2739097339283dd.jpg\n",
      "Resized image saved: /Users/mohammadfaridnaufal/Library/CloudStorage/OneDrive-UniversitasSurabaya/S3/Project/Program/U-Net/train/images/18_img_png.rf.ea1e99684e4b9def3c323570ee88eb68.jpg\n",
      "Resized image saved: /Users/mohammadfaridnaufal/Library/CloudStorage/OneDrive-UniversitasSurabaya/S3/Project/Program/U-Net/train/images/237_img_png.rf.0dff8dfa8e1f9154547a8d9168acb2fa.jpg\n",
      "Resized image saved: /Users/mohammadfaridnaufal/Library/CloudStorage/OneDrive-UniversitasSurabaya/S3/Project/Program/U-Net/train/images/72_img_png.rf.e878fb68e364888e33cd7d69d619db3a.jpg\n",
      "Resized image saved: /Users/mohammadfaridnaufal/Library/CloudStorage/OneDrive-UniversitasSurabaya/S3/Project/Program/U-Net/train/images/36_img_png.rf.659933daab424b9207953c0590ffbf10.jpg\n",
      "Resized image saved: /Users/mohammadfaridnaufal/Library/CloudStorage/OneDrive-UniversitasSurabaya/S3/Project/Program/U-Net/train/images/325_img_png.rf.6066672ed6707c2dc3fca1882cd020c7.jpg\n",
      "Resized image saved: /Users/mohammadfaridnaufal/Library/CloudStorage/OneDrive-UniversitasSurabaya/S3/Project/Program/U-Net/train/images/298_img_png.rf.40911202bd6306f9870625e83d9315b6.jpg\n",
      "Resized image saved: /Users/mohammadfaridnaufal/Library/CloudStorage/OneDrive-UniversitasSurabaya/S3/Project/Program/U-Net/train/images/248_img_png.rf.1cca596384425f258333a3f3b695435f.jpg\n"
     ]
    }
   ],
   "source": [
    "import cv2\n",
    "import os\n",
    "\n",
    "# Path to the folder containing the original images\n",
    "original_images_folder = \"/Users/mohammadfaridnaufal/Library/CloudStorage/OneDrive-UniversitasSurabaya/S3/Project/Program/datasets/MCAB-3-1/train/images\"\n",
    "\n",
    "# Path to the folder where resized images will be saved\n",
    "resized_images_folder = \"/Users/mohammadfaridnaufal/Library/CloudStorage/OneDrive-UniversitasSurabaya/S3/Project/Program/U-Net/train/images\"\n",
    "\n",
    "# Ensure the output folder exists, create it if it doesn't\n",
    "if not os.path.exists(resized_images_folder):\n",
    "    os.makedirs(resized_images_folder)\n",
    "\n",
    "# Loop through each file in the original images folder\n",
    "for filename in os.listdir(original_images_folder):\n",
    "    if filename.endswith((\".jpg\", \".png\", \".jpeg\")):  # Adjust the file extensions as needed\n",
    "        # Open the original image using OpenCV\n",
    "        original_image_path = os.path.join(original_images_folder, filename)\n",
    "        original_image = cv2.imread(original_image_path)\n",
    "\n",
    "        # Resize the image to the desired dimensions (200x101)\n",
    "        resized_image = cv2.resize(original_image, (101, 200))\n",
    "\n",
    "        # Save the resized image to the output folder\n",
    "        resized_image_path = os.path.join(resized_images_folder, filename)\n",
    "        cv2.imwrite(resized_image_path, resized_image)\n",
    "\n",
    "        print(f\"Resized image saved: {resized_image_path}\")\n"
   ]
  },
  {
   "cell_type": "markdown",
   "metadata": {},
   "source": [
    "Show the ground truth"
   ]
  },
  {
   "cell_type": "code",
   "execution_count": 21,
   "metadata": {},
   "outputs": [
    {
     "data": {
      "image/png": "[encoded data removed]",
      "text/plain": [
       "<Figure size 640x480 with 1 Axes>"
      ]
     },
     "metadata": {},
     "output_type": "display_data"
    }
   ],
   "source": [
    "import matplotlib.pyplot as plt\n",
    "import cv2\n",
    "\n",
    "# Read the image\n",
    "image_path = \"/Users/mohammadfaridnaufal/Library/CloudStorage/OneDrive-UniversitasSurabaya/S3/Project/Program/U-Net/train/masks/3_img_png.rf.133daa46d2ec27a8a40938aa2b4fe578.png\"\n",
    "image = cv2.imread(image_path)\n",
    "\n",
    "# Convert BGR to RGB\n",
    "image_rgb = cv2.cvtColor(image, cv2.COLOR_BGR2RGB)\n",
    "\n",
    "# Show the image using Matplotlib\n",
    "plt.imshow(image_rgb)\n",
    "plt.axis('off')  # Turn off axis\n",
    "plt.show()\n"
   ]
  },
  {
   "cell_type": "code",
   "execution_count": 23,
   "metadata": {},
   "outputs": [],
   "source": [
    "image_gray = image_rgb[:,:,1]"
   ]
  },
  {
   "cell_type": "code",
   "execution_count": 24,
   "metadata": {},
   "outputs": [
    {
     "name": "stdout",
     "output_type": "stream",
     "text": [
      "Value 0: Count 15849\n",
      "Value 128: Count 4246\n",
      "Value 255: Count 105\n"
     ]
    }
   ],
   "source": [
    "import numpy as np\n",
    "unique_values, counts = np.unique(image_gray, return_counts=True)\n",
    "\n",
    "# Print the counts for each unique value\n",
    "for value, count in zip(unique_values, counts):\n",
    "    print(f\"Value {value}: Count {count}\")"
   ]
  },
  {
   "cell_type": "code",
   "execution_count": 25,
   "metadata": {},
   "outputs": [
    {
     "ename": "ModuleNotFoundError",
     "evalue": "No module named 'tensorflow_datasets'",
     "output_type": "error",
     "traceback": [
      "\u001b[0;31m---------------------------------------------------------------------------\u001b[0m",
      "\u001b[0;31mModuleNotFoundError\u001b[0m                       Traceback (most recent call last)",
      "Cell \u001b[0;32mIn[25], line 1\u001b[0m\n\u001b[0;32m----> 1\u001b[0m \u001b[38;5;28;01mimport\u001b[39;00m \u001b[38;5;21;01mtensorflow_datasets\u001b[39;00m \u001b[38;5;28;01mas\u001b[39;00m \u001b[38;5;21;01mtfds\u001b[39;00m\n\u001b[1;32m      2\u001b[0m dataset, info \u001b[38;5;241m=\u001b[39m tfds\u001b[38;5;241m.\u001b[39mload(\u001b[38;5;124m'\u001b[39m\u001b[38;5;124moxford_iiit_pet:3.*.*\u001b[39m\u001b[38;5;124m'\u001b[39m, with_info\u001b[38;5;241m=\u001b[39m\u001b[38;5;28;01mTrue\u001b[39;00m)\n",
      "\u001b[0;31mModuleNotFoundError\u001b[0m: No module named 'tensorflow_datasets'"
     ]
    }
   ],
   "source": [
    "import tensorflow_datasets as tfds\n",
    "dataset, info = tfds.load('oxford_iiit_pet:3.*.*', with_info=True)"
   ]
  },
  {
   "cell_type": "code",
   "execution_count": null,
   "metadata": {},
   "outputs": [],
   "source": []
  }
 ],
 "metadata": {
  "kernelspec": {
   "display_name": "mcab",
   "language": "python",
   "name": "python3"
  },
  "language_info": {
   "codemirror_mode": {
    "name": "ipython",
    "version": 3
   },
   "file_extension": ".py",
   "mimetype": "text/x-python",
   "name": "python",
   "nbconvert_exporter": "python",
   "pygments_lexer": "ipython3",
   "version": "3.10.13"
  }
 },
 "nbformat": 4,
 "nbformat_minor": 2
}
